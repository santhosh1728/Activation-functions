{
  "nbformat": 4,
  "nbformat_minor": 0,
  "metadata": {
    "colab": {
      "provenance": []
    },
    "kernelspec": {
      "name": "python3",
      "display_name": "Python 3"
    },
    "language_info": {
      "name": "python"
    }
  },
  "cells": [
    {
      "cell_type": "code",
      "execution_count": 45,
      "metadata": {
        "id": "0-Psqbg2bH3y"
      },
      "outputs": [],
      "source": [
        "\n",
        "#\n",
        "\n",
        "#  ACTIVATION FUNCITONS\n",
        "\n",
        "#"
      ]
    },
    {
      "cell_type": "code",
      "source": [
        "#Binary function example"
      ],
      "metadata": {
        "id": "NggoX-m2gaJJ"
      },
      "execution_count": 9,
      "outputs": []
    },
    {
      "cell_type": "code",
      "source": [
        "def Binary_step(x):\n",
        "  if x<0:\n",
        "    return 0\n",
        "  else:\n",
        "    return 1"
      ],
      "metadata": {
        "id": "So7tdjOAgdAv"
      },
      "execution_count": 10,
      "outputs": []
    },
    {
      "cell_type": "code",
      "source": [
        "Binary_step(1)"
      ],
      "metadata": {
        "colab": {
          "base_uri": "https://localhost:8080/"
        },
        "id": "Eld0apFqgfQP",
        "outputId": "24e7ee32-72d0-475d-fb04-457cb354fe1e"
      },
      "execution_count": 11,
      "outputs": [
        {
          "output_type": "execute_result",
          "data": {
            "text/plain": [
              "1"
            ]
          },
          "metadata": {},
          "execution_count": 11
        }
      ]
    },
    {
      "cell_type": "code",
      "source": [
        "Binary_step(0)"
      ],
      "metadata": {
        "colab": {
          "base_uri": "https://localhost:8080/"
        },
        "id": "WVZaP3azgfNA",
        "outputId": "3aa36f29-1d96-441a-baa5-61f9d11a7660"
      },
      "execution_count": 12,
      "outputs": [
        {
          "output_type": "execute_result",
          "data": {
            "text/plain": [
              "1"
            ]
          },
          "metadata": {},
          "execution_count": 12
        }
      ]
    },
    {
      "cell_type": "code",
      "source": [
        "#Linear Function"
      ],
      "metadata": {
        "id": "7tJI2yjxgfKa"
      },
      "execution_count": 13,
      "outputs": []
    },
    {
      "cell_type": "code",
      "source": [
        "def linear_function(x):\n",
        "  return 5*x"
      ],
      "metadata": {
        "id": "g4ZK9e_qgfHZ"
      },
      "execution_count": 14,
      "outputs": []
    },
    {
      "cell_type": "code",
      "source": [
        "linear_function(19)"
      ],
      "metadata": {
        "colab": {
          "base_uri": "https://localhost:8080/"
        },
        "id": "AnyYzj8WgfEm",
        "outputId": "cc63fd04-8208-4640-bfb9-d0d9387e5cfd"
      },
      "execution_count": 15,
      "outputs": [
        {
          "output_type": "execute_result",
          "data": {
            "text/plain": [
              "95"
            ]
          },
          "metadata": {},
          "execution_count": 15
        }
      ]
    },
    {
      "cell_type": "code",
      "source": [
        "linear_function(-38)"
      ],
      "metadata": {
        "colab": {
          "base_uri": "https://localhost:8080/"
        },
        "id": "2H1kbDhQgfCJ",
        "outputId": "b0f50a43-828a-41d7-cf0e-9b79c15c7c30"
      },
      "execution_count": 16,
      "outputs": [
        {
          "output_type": "execute_result",
          "data": {
            "text/plain": [
              "-190"
            ]
          },
          "metadata": {},
          "execution_count": 16
        }
      ]
    },
    {
      "cell_type": "code",
      "source": [
        "#Sigmoid Function  ----****-----"
      ],
      "metadata": {
        "id": "pba2d6EFge_O"
      },
      "execution_count": 17,
      "outputs": []
    },
    {
      "cell_type": "code",
      "source": [
        "import numpy as np\n",
        "def sigmoid_function(x):\n",
        "  z=(1/(1+np.exp(-x)))\n",
        "  return z"
      ],
      "metadata": {
        "id": "PmVpv_8Mge8i"
      },
      "execution_count": 18,
      "outputs": []
    },
    {
      "cell_type": "code",
      "source": [
        "sigmoid_function(100)"
      ],
      "metadata": {
        "colab": {
          "base_uri": "https://localhost:8080/"
        },
        "id": "ay39ymE9ge5k",
        "outputId": "7fa205c0-c36b-4eaf-988b-f706a100818e"
      },
      "execution_count": 19,
      "outputs": [
        {
          "output_type": "execute_result",
          "data": {
            "text/plain": [
              "1.0"
            ]
          },
          "metadata": {},
          "execution_count": 19
        }
      ]
    },
    {
      "cell_type": "code",
      "source": [
        "sigmoid_function(500)"
      ],
      "metadata": {
        "colab": {
          "base_uri": "https://localhost:8080/"
        },
        "id": "kYoWgClYg4pl",
        "outputId": "a1a20956-2f55-470a-94a1-1aa609fb3d10"
      },
      "execution_count": 20,
      "outputs": [
        {
          "output_type": "execute_result",
          "data": {
            "text/plain": [
              "1.0"
            ]
          },
          "metadata": {},
          "execution_count": 20
        }
      ]
    },
    {
      "cell_type": "code",
      "source": [
        "sigmoid_function(-100)"
      ],
      "metadata": {
        "colab": {
          "base_uri": "https://localhost:8080/"
        },
        "id": "n7NUHuzgg4mO",
        "outputId": "9a4a1856-fff1-4268-d685-d40ae57719af"
      },
      "execution_count": 21,
      "outputs": [
        {
          "output_type": "execute_result",
          "data": {
            "text/plain": [
              "3.7200759760208356e-44"
            ]
          },
          "metadata": {},
          "execution_count": 21
        }
      ]
    },
    {
      "cell_type": "code",
      "source": [
        "#wheb the output is in between 0 to 1 we use sigmoidal function\n",
        "#when the output is in between -1 to 1 we use tanh function"
      ],
      "metadata": {
        "id": "u-Cu8XPsg4jR"
      },
      "execution_count": 22,
      "outputs": []
    },
    {
      "cell_type": "code",
      "source": [
        "# tanh "
      ],
      "metadata": {
        "id": "s1nEblwYge22"
      },
      "execution_count": 23,
      "outputs": []
    },
    {
      "cell_type": "code",
      "source": [
        "def tan_function(x):\n",
        "  z=(2/(1+np.exp(-2*x)))-1\n",
        "  return z"
      ],
      "metadata": {
        "id": "o_1U79KChCrX"
      },
      "execution_count": 24,
      "outputs": []
    },
    {
      "cell_type": "code",
      "source": [
        "tan_function(0.9)"
      ],
      "metadata": {
        "colab": {
          "base_uri": "https://localhost:8080/"
        },
        "id": "QN_RF9xGhCoL",
        "outputId": "4f1cf081-e821-4bb3-d85d-eb7fab638690"
      },
      "execution_count": 25,
      "outputs": [
        {
          "output_type": "execute_result",
          "data": {
            "text/plain": [
              "0.7162978701990246"
            ]
          },
          "metadata": {},
          "execution_count": 25
        }
      ]
    },
    {
      "cell_type": "code",
      "source": [
        "tan_function(-299)"
      ],
      "metadata": {
        "colab": {
          "base_uri": "https://localhost:8080/"
        },
        "id": "JVy27rMAhClE",
        "outputId": "a4f00a06-699f-4f71-b801-3ab44baf2326"
      },
      "execution_count": 26,
      "outputs": [
        {
          "output_type": "execute_result",
          "data": {
            "text/plain": [
              "-1.0"
            ]
          },
          "metadata": {},
          "execution_count": 26
        }
      ]
    },
    {
      "cell_type": "code",
      "source": [
        "#ReLU =>Rectified linear Unit\n",
        "# if the value if -ve it returns 0\n",
        "# if the value is +ve it returns same number"
      ],
      "metadata": {
        "id": "tklO2CbBhCiC"
      },
      "execution_count": 27,
      "outputs": []
    },
    {
      "cell_type": "code",
      "source": [
        "def relu_function(x):\n",
        "  if x<0:\n",
        "    return 0\n",
        "  else:\n",
        "    return x"
      ],
      "metadata": {
        "id": "gmUkbV-thCfA"
      },
      "execution_count": 28,
      "outputs": []
    },
    {
      "cell_type": "code",
      "source": [
        "relu_function(28978)"
      ],
      "metadata": {
        "colab": {
          "base_uri": "https://localhost:8080/"
        },
        "id": "ioCMaBUIhMJS",
        "outputId": "d68c093f-3b95-484c-be93-a0f82b28de68"
      },
      "execution_count": 29,
      "outputs": [
        {
          "output_type": "execute_result",
          "data": {
            "text/plain": [
              "28978"
            ]
          },
          "metadata": {},
          "execution_count": 29
        }
      ]
    },
    {
      "cell_type": "code",
      "source": [
        "relu_function(-3)"
      ],
      "metadata": {
        "colab": {
          "base_uri": "https://localhost:8080/"
        },
        "id": "Sw9BMGsThMF4",
        "outputId": "a48100d3-330c-43e4-89ab-2ed479d7ee6b"
      },
      "execution_count": 30,
      "outputs": [
        {
          "output_type": "execute_result",
          "data": {
            "text/plain": [
              "0"
            ]
          },
          "metadata": {},
          "execution_count": 30
        }
      ]
    },
    {
      "cell_type": "code",
      "source": [
        "#Leaky reLU "
      ],
      "metadata": {
        "id": "6JdT-7SthMCy"
      },
      "execution_count": 31,
      "outputs": []
    },
    {
      "cell_type": "code",
      "source": [
        "def leaky_relu_function(x):\n",
        "  if x<0:\n",
        "    return 0.01*x\n",
        "  else:\n",
        "    return x"
      ],
      "metadata": {
        "id": "QC8Y-xYFhL_r"
      },
      "execution_count": 32,
      "outputs": []
    },
    {
      "cell_type": "code",
      "source": [
        "leaky_relu_function(9)"
      ],
      "metadata": {
        "colab": {
          "base_uri": "https://localhost:8080/"
        },
        "id": "eT730S4NgesO",
        "outputId": "44a30eae-38da-48ac-e45c-c3f1b064c683"
      },
      "execution_count": 33,
      "outputs": [
        {
          "output_type": "execute_result",
          "data": {
            "text/plain": [
              "9"
            ]
          },
          "metadata": {},
          "execution_count": 33
        }
      ]
    },
    {
      "cell_type": "code",
      "source": [
        "leaky_relu_function(-4)"
      ],
      "metadata": {
        "colab": {
          "base_uri": "https://localhost:8080/"
        },
        "id": "ihH_MgCrhWz4",
        "outputId": "da69a567-7831-4a39-ead3-5b7bf07ce1a4"
      },
      "execution_count": 34,
      "outputs": [
        {
          "output_type": "execute_result",
          "data": {
            "text/plain": [
              "-0.04"
            ]
          },
          "metadata": {},
          "execution_count": 34
        }
      ]
    },
    {
      "cell_type": "code",
      "source": [
        "#ELU"
      ],
      "metadata": {
        "id": "30qVCaB6hWwb"
      },
      "execution_count": 35,
      "outputs": []
    },
    {
      "cell_type": "code",
      "source": [
        "import numpy as np"
      ],
      "metadata": {
        "id": "zHC_A79rhWtT"
      },
      "execution_count": 36,
      "outputs": []
    },
    {
      "cell_type": "code",
      "source": [
        "def elu_function(x,a):\n",
        "  if x<0:\n",
        "    return a*(np.exp(x)-1)\n",
        "  else:\n",
        "    return 0"
      ],
      "metadata": {
        "id": "cXxrlfr6hWqb"
      },
      "execution_count": 37,
      "outputs": []
    },
    {
      "cell_type": "code",
      "source": [
        "elu_function(5,0.1)"
      ],
      "metadata": {
        "colab": {
          "base_uri": "https://localhost:8080/"
        },
        "id": "PeLkyl1DhWnE",
        "outputId": "371e3e20-b610-46b6-e142-c82696d5a495"
      },
      "execution_count": 38,
      "outputs": [
        {
          "output_type": "execute_result",
          "data": {
            "text/plain": [
              "0"
            ]
          },
          "metadata": {},
          "execution_count": 38
        }
      ]
    },
    {
      "cell_type": "code",
      "source": [
        "elu_function(-5,0.1)"
      ],
      "metadata": {
        "colab": {
          "base_uri": "https://localhost:8080/"
        },
        "id": "DK4i6Dj0hWkO",
        "outputId": "b8c72028-004e-436a-d398-3efe3f5c8611"
      },
      "execution_count": 39,
      "outputs": [
        {
          "output_type": "execute_result",
          "data": {
            "text/plain": [
              "-0.09932620530009145"
            ]
          },
          "metadata": {},
          "execution_count": 39
        }
      ]
    },
    {
      "cell_type": "code",
      "source": [
        "#Softmax"
      ],
      "metadata": {
        "id": "FCBX-dzohWhS"
      },
      "execution_count": 40,
      "outputs": []
    },
    {
      "cell_type": "code",
      "source": [
        "def softmax_function(x):\n",
        "  z=np.exp(x)\n",
        "  z_=z/z.sum()\n",
        "  return z_"
      ],
      "metadata": {
        "id": "-9qtkQB8hWeZ"
      },
      "execution_count": 41,
      "outputs": []
    },
    {
      "cell_type": "code",
      "source": [
        "softmax_function([2.0,1.0,0.1])"
      ],
      "metadata": {
        "colab": {
          "base_uri": "https://localhost:8080/"
        },
        "id": "3VDyo2nJhWa0",
        "outputId": "d3673923-3d94-40fa-f688-29ea19e83e14"
      },
      "execution_count": 42,
      "outputs": [
        {
          "output_type": "execute_result",
          "data": {
            "text/plain": [
              "array([0.65900114, 0.24243297, 0.09856589])"
            ]
          },
          "metadata": {},
          "execution_count": 42
        }
      ]
    },
    {
      "cell_type": "code",
      "source": [
        "#\n",
        "\n",
        "\n",
        "\n",
        "            #->ACTIVATION FUNCTOINS COMPLITATED\n",
        "\n",
        "\n",
        "#"
      ],
      "metadata": {
        "id": "E2_SBta6hWXr"
      },
      "execution_count": 43,
      "outputs": []
    },
    {
      "cell_type": "code",
      "source": [],
      "metadata": {
        "id": "Ozgbh0r9hWUz"
      },
      "execution_count": 43,
      "outputs": []
    }
  ]
}