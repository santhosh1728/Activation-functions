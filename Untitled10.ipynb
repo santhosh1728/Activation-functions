{
  "nbformat": 4,
  "nbformat_minor": 0,
  "metadata": {
    "colab": {
      "provenance": [],
      "include_colab_link": true
    },
    "kernelspec": {
      "name": "python3",
      "display_name": "Python 3"
    },
    "language_info": {
      "name": "python"
    }
  },
  "cells": [
    {
      "cell_type": "markdown",
      "metadata": {
        "id": "view-in-github",
        "colab_type": "text"
      },
      "source": [
        "<a href=\"https://colab.research.google.com/github/santhosh1728/Activation-functions/blob/main/Untitled10.ipynb\" target=\"_parent\"><img src=\"https://colab.research.google.com/assets/colab-badge.svg\" alt=\"Open In Colab\"/></a>"
      ]
    },
    {
      "cell_type": "code",
      "execution_count": null,
      "metadata": {
        "id": "87vec6Bi6rSg"
      },
      "outputs": [],
      "source": [
        "n = int(input(\"enter a number:\"))\n",
        "fact =1\n",
        "for i in range(1,n+1):\n",
        "  F = fact*i\n",
        "print(F)"
      ]
    },
    {
      "cell_type": "code",
      "source": [
        "n = int(input(\"enter a number: \"))\n",
        "fact =1\n",
        "for i in range(1,n+1):\n",
        "  fact = fact*i\n",
        "print(fact)"
      ],
      "metadata": {
        "colab": {
          "base_uri": "https://localhost:8080/"
        },
        "id": "GYKp_pF5NKv2",
        "outputId": "a37c2ad9-f601-43c4-9c2a-f73c2830d507"
      },
      "execution_count": null,
      "outputs": [
        {
          "output_type": "stream",
          "name": "stdout",
          "text": [
            "enter a number: 5\n",
            "120\n"
          ]
        }
      ]
    },
    {
      "cell_type": "code",
      "source": [
        "n = int(input('enter a number:'))\n",
        "for i in range(1,n+1):\n",
        "  if n%i == 0 :\n",
        "    print(i)"
      ],
      "metadata": {
        "colab": {
          "base_uri": "https://localhost:8080/"
        },
        "id": "-tgsT-LHNsLV",
        "outputId": "86e052d6-7aec-417d-9efd-78728d035470"
      },
      "execution_count": null,
      "outputs": [
        {
          "output_type": "stream",
          "name": "stdout",
          "text": [
            "enter a number:10\n",
            "1\n",
            "2\n",
            "5\n",
            "10\n"
          ]
        }
      ]
    },
    {
      "cell_type": "markdown",
      "source": [],
      "metadata": {
        "id": "qyZjQKf4Nr1W"
      }
    },
    {
      "cell_type": "code",
      "source": [
        "#facor of a number\n",
        "\n",
        "n = int(input(\"enter  a number:\"))\n",
        "\n",
        "for i in range(1 , n+1):\n",
        "  if n % i == 0:\n",
        "    print(i)"
      ],
      "metadata": {
        "colab": {
          "base_uri": "https://localhost:8080/"
        },
        "id": "AFqT5F-t7Gjr",
        "outputId": "193445d3-a888-4b82-f594-30d4515d8793"
      },
      "execution_count": null,
      "outputs": [
        {
          "output_type": "stream",
          "name": "stdout",
          "text": [
            "enter  a number:5\n",
            "1\n",
            "5\n"
          ]
        }
      ]
    },
    {
      "cell_type": "code",
      "source": [
        "n = int(input(\"Enter a number:\"))\n",
        "for i in range(1, n+1):\n",
        "  if n%i ==0:\n",
        "\n",
        "   print(i)"
      ],
      "metadata": {
        "colab": {
          "base_uri": "https://localhost:8080/"
        },
        "id": "MZgNt69-ASSf",
        "outputId": "f7a04794-bb2f-4092-e319-e946960c7afc"
      },
      "execution_count": null,
      "outputs": [
        {
          "output_type": "stream",
          "name": "stdout",
          "text": [
            "Enter a number:10\n",
            "1\n",
            "2\n",
            "5\n",
            "10\n"
          ]
        }
      ]
    },
    {
      "cell_type": "markdown",
      "source": [
        "Fibonacci.py"
      ],
      "metadata": {
        "id": "_XjH60dWAzTl"
      }
    },
    {
      "cell_type": "code",
      "source": [
        "n = int(input(\"enter number of terms : \"))\n",
        "a = 0\n",
        "b = 1\n",
        "\n",
        "for i in range(n):\n",
        "  print(a)\n",
        "  c = a+b\n",
        "  a = b\n",
        "  b = c"
      ],
      "metadata": {
        "colab": {
          "base_uri": "https://localhost:8080/"
        },
        "id": "nNqXt9wR9YLn",
        "outputId": "1ef75717-7926-48dd-fd65-713fc1d18283"
      },
      "execution_count": null,
      "outputs": [
        {
          "output_type": "stream",
          "name": "stdout",
          "text": [
            "enter number of terms : 10\n",
            "0\n",
            "1\n",
            "1\n",
            "2\n",
            "3\n",
            "5\n",
            "8\n",
            "13\n",
            "21\n",
            "34\n"
          ]
        }
      ]
    },
    {
      "cell_type": "code",
      "source": [
        "n = int(input(\"Enter the number of terms: \"))\n",
        "\n",
        "if n <= 0:\n",
        "    print(\"Please enter a positive integer\")\n",
        "elif n == 1:\n",
        "    print(\"Fibonacci sequence upto\",n,\":\")\n",
        "    print(n)\n",
        "else:\n",
        "    print(\"Fibonacci sequence:\")\n",
        "    a = 0\n",
        "    b = 1\n",
        "    for i in range(n):\n",
        "        print(a)\n",
        "        c = a + b\n",
        "        a = b\n",
        "        b = c"
      ],
      "metadata": {
        "colab": {
          "base_uri": "https://localhost:8080/"
        },
        "id": "9oyaDhksBH2w",
        "outputId": "3254571d-b451-4370-f210-023abf2a2079"
      },
      "execution_count": null,
      "outputs": [
        {
          "output_type": "stream",
          "name": "stdout",
          "text": [
            "Enter the number of terms: 5\n",
            "Fibonacci sequence:\n",
            "0\n",
            "1\n",
            "1\n",
            "2\n",
            "3\n"
          ]
        }
      ]
    },
    {
      "cell_type": "code",
      "source": [
        "n = int(input(\"Enter the number of terms: \"))\n",
        "\n",
        "if n <= 0:\n",
        "    print(\"Please enter a positive integer\")\n",
        "elif n == 1:\n",
        "    print(\"Fibonacci sequence upto\",n,\":\")\n",
        "    print(n)\n",
        "else:\n",
        "    print(\"Fibonacci sequence:\")\n",
        "    a = 0\n",
        "    b = 1\n",
        "    for i in range(n):\n",
        "        print(a)\n",
        "        c = a + b\n",
        "        a = b\n",
        "        b = c"
      ],
      "metadata": {
        "colab": {
          "base_uri": "https://localhost:8080/"
        },
        "id": "GpPgMhskCEcj",
        "outputId": "f86e8269-1660-491b-e4ab-f6b311d13e49"
      },
      "execution_count": null,
      "outputs": [
        {
          "output_type": "stream",
          "name": "stdout",
          "text": [
            "Enter the number of terms: 10\n",
            "Fibonacci sequence:\n",
            "0\n",
            "1\n",
            "1\n",
            "2\n",
            "3\n",
            "5\n",
            "8\n",
            "13\n",
            "21\n",
            "34\n"
          ]
        }
      ]
    },
    {
      "cell_type": "code",
      "source": [
        "n = int(input(\"enter a number:\"))\n",
        "a = 0\n",
        "b = 1\n",
        "\n",
        "for i in range(n+1):\n",
        "  print(a)\n",
        "  c = a+b\n",
        "  a = b\n",
        "  b = c"
      ],
      "metadata": {
        "colab": {
          "base_uri": "https://localhost:8080/"
        },
        "id": "LPISiOu4CHMj",
        "outputId": "185ec1da-abb1-4c5f-93c6-03128fb0ee14"
      },
      "execution_count": null,
      "outputs": [
        {
          "output_type": "stream",
          "name": "stdout",
          "text": [
            "enter a number:10\n",
            "0\n",
            "1\n",
            "1\n",
            "2\n",
            "3\n",
            "5\n",
            "8\n",
            "13\n",
            "21\n",
            "34\n",
            "55\n"
          ]
        }
      ]
    },
    {
      "cell_type": "code",
      "source": [
        "n = int(input(\"enter a number\"))\n",
        "a = 0\n",
        "b = 1\n",
        "for i in range(n+1):\n",
        "  print(a)\n",
        "  c = a+b\n",
        "  a=b\n",
        "  b=c"
      ],
      "metadata": {
        "colab": {
          "base_uri": "https://localhost:8080/"
        },
        "id": "XZadIm9DCtNY",
        "outputId": "8186d49f-e693-4fe0-b54b-41b4e336a9bb"
      },
      "execution_count": null,
      "outputs": [
        {
          "output_type": "stream",
          "name": "stdout",
          "text": [
            "enter a number7\n",
            "0\n",
            "1\n",
            "1\n",
            "2\n",
            "3\n",
            "5\n",
            "8\n",
            "13\n"
          ]
        }
      ]
    },
    {
      "cell_type": "markdown",
      "source": [
        "for break continue"
      ],
      "metadata": {
        "id": "d4bKWZ_mDcnV"
      }
    },
    {
      "cell_type": "code",
      "source": [
        "for i in range(10,0,-1):\n",
        "  print(i)"
      ],
      "metadata": {
        "colab": {
          "base_uri": "https://localhost:8080/"
        },
        "id": "rbBFVQ9PED1Y",
        "outputId": "72e62402-9d2f-4110-bd85-a7f9dfeee697"
      },
      "execution_count": null,
      "outputs": [
        {
          "output_type": "stream",
          "name": "stdout",
          "text": [
            "10\n",
            "9\n",
            "8\n",
            "7\n",
            "6\n",
            "5\n",
            "4\n",
            "3\n",
            "2\n",
            "1\n"
          ]
        }
      ]
    },
    {
      "cell_type": "code",
      "source": [
        "n = int(input(\"enter a number:\"))\n",
        "for i in range(1,11):\n",
        "  print(n,\"x\",i,'=',i*n)"
      ],
      "metadata": {
        "colab": {
          "base_uri": "https://localhost:8080/"
        },
        "id": "HyC8OoU7ESe0",
        "outputId": "136cf573-3d50-495c-9db5-22359667a381"
      },
      "execution_count": null,
      "outputs": [
        {
          "output_type": "stream",
          "name": "stdout",
          "text": [
            "enter a number:5\n",
            "5 x 1 = 5\n",
            "5 x 2 = 10\n",
            "5 x 3 = 15\n",
            "5 x 4 = 20\n",
            "5 x 5 = 25\n",
            "5 x 6 = 30\n",
            "5 x 7 = 35\n",
            "5 x 8 = 40\n",
            "5 x 9 = 45\n",
            "5 x 10 = 50\n"
          ]
        }
      ]
    },
    {
      "cell_type": "code",
      "source": [
        "n = int(input(\"enter a num:\"))\n",
        "m = int(input(\"enter second number: \"))\n",
        "for i in range(1,11):\n",
        "  print(n,'x',i,\"=\",n*i ,'\\t',m,'x',i,'=' ,m*i)"
      ],
      "metadata": {
        "colab": {
          "base_uri": "https://localhost:8080/"
        },
        "id": "RsCv3duqElra",
        "outputId": "d217eff2-d941-480e-a408-a59aedb4cbf5"
      },
      "execution_count": null,
      "outputs": [
        {
          "output_type": "stream",
          "name": "stdout",
          "text": [
            "enter a num:6\n",
            "enter second number: 8\n",
            "6 x 1 = 6 \t 8 x 1 = 8\n",
            "6 x 2 = 12 \t 8 x 2 = 16\n",
            "6 x 3 = 18 \t 8 x 3 = 24\n",
            "6 x 4 = 24 \t 8 x 4 = 32\n",
            "6 x 5 = 30 \t 8 x 5 = 40\n",
            "6 x 6 = 36 \t 8 x 6 = 48\n",
            "6 x 7 = 42 \t 8 x 7 = 56\n",
            "6 x 8 = 48 \t 8 x 8 = 64\n",
            "6 x 9 = 54 \t 8 x 9 = 72\n",
            "6 x 10 = 60 \t 8 x 10 = 80\n"
          ]
        }
      ]
    },
    {
      "cell_type": "code",
      "source": [
        "n = int(input(\"enter a number:\"))\n",
        "i = 1\n",
        "while i <=10:\n",
        "  print(n,'x',i,'=',i*n)\n",
        "  i = i+1"
      ],
      "metadata": {
        "colab": {
          "base_uri": "https://localhost:8080/"
        },
        "id": "aEcNdBr9cVTi",
        "outputId": "994e6709-944d-4fbe-f310-b63c2f8ee90a"
      },
      "execution_count": null,
      "outputs": [
        {
          "output_type": "stream",
          "name": "stdout",
          "text": [
            "enter a number:44\n",
            "44 x 1 = 44\n",
            "44 x 2 = 88\n",
            "44 x 3 = 132\n",
            "44 x 4 = 176\n",
            "44 x 5 = 220\n",
            "44 x 6 = 264\n",
            "44 x 7 = 308\n",
            "44 x 8 = 352\n",
            "44 x 9 = 396\n",
            "44 x 10 = 440\n"
          ]
        }
      ]
    },
    {
      "cell_type": "markdown",
      "source": [
        "polindrome"
      ],
      "metadata": {
        "id": "j0Q6pLlpdAFI"
      }
    },
    {
      "cell_type": "code",
      "source": [
        "#reverse a number:\n",
        "\n",
        "\n",
        "n = int(input(\"enter a number:\"))\n",
        "rev = 0\n",
        "while n>0:\n",
        "  r = n%10\n",
        "  n=n//10\n",
        "  rev = rev * 10 + r\n",
        "\n",
        "print('reverse number is:',rev)\n",
        "print(n)"
      ],
      "metadata": {
        "colab": {
          "base_uri": "https://localhost:8080/"
        },
        "id": "pkwNzIQCdkTD",
        "outputId": "7ab12690-fb95-4819-baa3-a77a413985ed"
      },
      "execution_count": null,
      "outputs": [
        {
          "output_type": "stream",
          "name": "stdout",
          "text": [
            "enter a number:1233\n",
            "reverse number is: 3321\n",
            "0\n"
          ]
        }
      ]
    },
    {
      "cell_type": "code",
      "source": [
        "n = int(input(\"enter a number:\"))\n",
        "m = n\n",
        "rev = 0\n",
        "while n > 0:\n",
        "  r = n%10\n",
        "  n=n //10\n",
        "  rev = rev *10 +r\n",
        "\n",
        "  if m == rev:\n",
        "    print(\"num is a polindrome\")\n",
        "  else:\n",
        "    print(\"num is not a polindrome\")"
      ],
      "metadata": {
        "colab": {
          "base_uri": "https://localhost:8080/"
        },
        "id": "rj2L1us4c_Z3",
        "outputId": "e80f9b37-7d04-4bfb-dcae-ed628a17d521"
      },
      "execution_count": null,
      "outputs": [
        {
          "output_type": "stream",
          "name": "stdout",
          "text": [
            "enter a number:12321\n",
            "num is not a polindrome\n",
            "num is not a polindrome\n",
            "num is not a polindrome\n",
            "num is not a polindrome\n",
            "num is a polindrome\n"
          ]
        }
      ]
    },
    {
      "cell_type": "markdown",
      "source": [],
      "metadata": {
        "id": "6Rn8yUqvcUvq"
      }
    },
    {
      "cell_type": "markdown",
      "source": [
        "nested loop"
      ],
      "metadata": {
        "id": "F6Vv00fjGHL3"
      }
    },
    {
      "cell_type": "code",
      "source": [
        "s1 = 'abc'\n",
        "s2 = 'xyz'\n",
        "for i in s1:\n",
        "  for j in s2:\n",
        "    print(i,j,end=' ')\n",
        "  print('')"
      ],
      "metadata": {
        "colab": {
          "base_uri": "https://localhost:8080/"
        },
        "id": "AHbmYDboE7pG",
        "outputId": "4cb031b4-8544-4bf3-f9bb-2a66e07206a6"
      },
      "execution_count": null,
      "outputs": [
        {
          "output_type": "stream",
          "name": "stdout",
          "text": [
            "a x a y a z \n",
            "b x b y b z \n",
            "c x c y c z \n"
          ]
        }
      ]
    },
    {
      "cell_type": "code",
      "source": [
        "\n",
        "s1='abc'\n",
        "s2='xyz'\n",
        "\n",
        "for i in s1:\n",
        "    for j in s2:\n",
        "        print(i, j)\n",
        "    print(' ')"
      ],
      "metadata": {
        "colab": {
          "base_uri": "https://localhost:8080/"
        },
        "id": "6hEAqS5YGrEg",
        "outputId": "7cc71ec2-4d90-4957-9d4f-cbcb05603358"
      },
      "execution_count": null,
      "outputs": [
        {
          "output_type": "stream",
          "name": "stdout",
          "text": [
            "a x\n",
            "a y\n",
            "a z\n",
            " \n",
            "b x\n",
            "b y\n",
            "b z\n",
            " \n",
            "c x\n",
            "c y\n",
            "c z\n",
            " \n"
          ]
        }
      ]
    },
    {
      "cell_type": "code",
      "source": [
        "for i in range(5,0,-1):\n",
        "  print(\"*\" * i)"
      ],
      "metadata": {
        "colab": {
          "base_uri": "https://localhost:8080/"
        },
        "id": "vhjKF-MjG95W",
        "outputId": "a1baaa8b-70f3-46a6-ccdb-8b0981c19e2b"
      },
      "execution_count": null,
      "outputs": [
        {
          "output_type": "stream",
          "name": "stdout",
          "text": [
            "*****\n",
            "****\n",
            "***\n",
            "**\n",
            "*\n"
          ]
        }
      ]
    },
    {
      "cell_type": "code",
      "source": [
        "for i in range(0,5):\n",
        "  for j in range(0,5):\n",
        "    if i>=j:\n",
        "      print('*',end= ' ')\n",
        "  print(' ')\n"
      ],
      "metadata": {
        "colab": {
          "base_uri": "https://localhost:8080/"
        },
        "id": "sGaZxnH5Hv9f",
        "outputId": "cbb25784-3e3e-47a6-de30-21ff56b1f9e0"
      },
      "execution_count": null,
      "outputs": [
        {
          "output_type": "stream",
          "name": "stdout",
          "text": [
            "*  \n",
            "* *  \n",
            "* * *  \n",
            "* * * *  \n",
            "* * * * *  \n"
          ]
        }
      ]
    },
    {
      "cell_type": "code",
      "source": [
        "for i in range(5,0,-1):\n",
        "  print('*' * i)"
      ],
      "metadata": {
        "colab": {
          "base_uri": "https://localhost:8080/"
        },
        "id": "5jncbxHzIJ9Y",
        "outputId": "680402b6-d02f-4429-9d84-3b77de774cb6"
      },
      "execution_count": null,
      "outputs": [
        {
          "output_type": "stream",
          "name": "stdout",
          "text": [
            "*****\n",
            "****\n",
            "***\n",
            "**\n",
            "*\n"
          ]
        }
      ]
    },
    {
      "cell_type": "code",
      "source": [
        "for i in range (0,10):\n",
        "  for j in range(0,10):\n",
        "    if i>=j:\n",
        "     print(\"🥂\",end=' ')\n",
        "  print('')"
      ],
      "metadata": {
        "colab": {
          "base_uri": "https://localhost:8080/"
        },
        "id": "mWb-dilxIb2v",
        "outputId": "f48ee545-ec59-4179-a758-5987089116d2"
      },
      "execution_count": null,
      "outputs": [
        {
          "output_type": "stream",
          "name": "stdout",
          "text": [
            "🥂 \n",
            "🥂 🥂 \n",
            "🥂 🥂 🥂 \n",
            "🥂 🥂 🥂 🥂 \n",
            "🥂 🥂 🥂 🥂 🥂 \n",
            "🥂 🥂 🥂 🥂 🥂 🥂 \n",
            "🥂 🥂 🥂 🥂 🥂 🥂 🥂 \n",
            "🥂 🥂 🥂 🥂 🥂 🥂 🥂 🥂 \n",
            "🥂 🥂 🥂 🥂 🥂 🥂 🥂 🥂 🥂 \n",
            "🥂 🥂 🥂 🥂 🥂 🥂 🥂 🥂 🥂 🥂 \n"
          ]
        }
      ]
    },
    {
      "cell_type": "code",
      "source": [
        "for i in range(0,10):\n",
        "  for j in range(0,10):\n",
        "    if i<=j:\n",
        "      print(\"ajay\" , end =' ')\n",
        "  print('')"
      ],
      "metadata": {
        "colab": {
          "base_uri": "https://localhost:8080/"
        },
        "id": "G9A4qovkI7p7",
        "outputId": "3a0e0794-788e-4e6a-850f-bb207eb9e4eb"
      },
      "execution_count": null,
      "outputs": [
        {
          "output_type": "stream",
          "name": "stdout",
          "text": [
            "ajay ajay ajay ajay ajay ajay ajay ajay ajay ajay \n",
            "ajay ajay ajay ajay ajay ajay ajay ajay ajay \n",
            "ajay ajay ajay ajay ajay ajay ajay ajay \n",
            "ajay ajay ajay ajay ajay ajay ajay \n",
            "ajay ajay ajay ajay ajay ajay \n",
            "ajay ajay ajay ajay ajay \n",
            "ajay ajay ajay ajay \n",
            "ajay ajay ajay \n",
            "ajay ajay \n",
            "ajay \n"
          ]
        }
      ]
    },
    {
      "cell_type": "code",
      "source": [
        "n = int(input(\"enter a number:\"))\n",
        "count = 0\n",
        "for i in range(1,n+1):\n",
        "  if n%i==0:\n",
        "    count +=1\n",
        "if count == 2 :\n",
        "  print(\"it's a prime number...!\")\n",
        "else:\n",
        "  print(\"it's not a prime number...\")"
      ],
      "metadata": {
        "colab": {
          "base_uri": "https://localhost:8080/"
        },
        "id": "HKRJXimvJbYR",
        "outputId": "7720cc68-f2ae-4b9a-b8be-eda994bcb59c"
      },
      "execution_count": null,
      "outputs": [
        {
          "output_type": "stream",
          "name": "stdout",
          "text": [
            "enter a number:45\n",
            "it's not a prime number...\n"
          ]
        }
      ]
    },
    {
      "cell_type": "markdown",
      "source": [
        "countdigits\n"
      ],
      "metadata": {
        "id": "8_DJmgu0U5iq"
      }
    },
    {
      "cell_type": "code",
      "source": [
        "n = int(input(\"enter a number:\"))\n",
        "counter = 0\n",
        "while n>0:\n",
        "  n = n // 10\n",
        "  counter +=1\n",
        "print(\"number of digits are:\", counter)"
      ],
      "metadata": {
        "colab": {
          "base_uri": "https://localhost:8080/"
        },
        "id": "mLhKFWlcMcmK",
        "outputId": "3ddc4adf-394c-4210-d0df-3109f6ff39a5"
      },
      "execution_count": null,
      "outputs": [
        {
          "output_type": "stream",
          "name": "stdout",
          "text": [
            "enter a number:111123\n",
            "number of digits are: 6\n"
          ]
        }
      ]
    },
    {
      "cell_type": "code",
      "source": [
        "# n = input(\"enter something: \")\n",
        "# counter = 0\n",
        "# while n > 0:\n",
        "#   n = n // 10\n",
        "#   counter +=1\n",
        "# print(\"number of digits:\",counter)"
      ],
      "metadata": {
        "id": "cETS9rg_VOR7"
      },
      "execution_count": null,
      "outputs": []
    },
    {
      "cell_type": "code",
      "source": [
        "n = int(input(\"enter a number:\"))\n",
        "while n>10:\n",
        "  r = n %10\n",
        "  n = n // 10\n",
        "  print(r)"
      ],
      "metadata": {
        "colab": {
          "base_uri": "https://localhost:8080/"
        },
        "id": "F7kqR8foV74t",
        "outputId": "f93348cb-0139-4d1b-e16d-d70aa0d9e1ee"
      },
      "execution_count": null,
      "outputs": [
        {
          "output_type": "stream",
          "name": "stdout",
          "text": [
            "enter a number:102\n",
            "2\n"
          ]
        }
      ]
    },
    {
      "cell_type": "code",
      "source": [
        "import random\n",
        "n = random.randint(1,5)\n",
        "guess = 0\n",
        "while guess !=n:\n",
        "  guess = int(input(\"guess a number:\"))\n",
        "\n",
        "  if guess < n:\n",
        "    print('smaller..')\n",
        "  elif guess >n:\n",
        "    print('greater...')\n",
        "  else:\n",
        "    print('correct')"
      ],
      "metadata": {
        "colab": {
          "base_uri": "https://localhost:8080/"
        },
        "id": "qOSvOBAbZfaE",
        "outputId": "60ddab09-f216-4e18-fcde-34ed277c1199"
      },
      "execution_count": null,
      "outputs": [
        {
          "output_type": "stream",
          "name": "stdout",
          "text": [
            "guess a number:2\n",
            "greater...\n",
            "guess a number:3\n",
            "greater...\n",
            "guess a number:5\n",
            "greater...\n",
            "guess a number:1\n",
            "correct\n"
          ]
        }
      ]
    },
    {
      "cell_type": "markdown",
      "source": [
        "guess a number"
      ],
      "metadata": {
        "id": "HDotWWh8XIKr"
      }
    },
    {
      "cell_type": "code",
      "source": [
        "import random\n",
        "n = random.randint(1,10)\n",
        "guess = 0\n",
        "while guess !=n:\n",
        "  guess = int(input(\"guess a number:\"))\n",
        "\n",
        "  if guess < n:\n",
        "    print('it is smaller..')\n",
        "  elif guess > n:\n",
        "    print('is is larger...')\n",
        "  else:\n",
        "    print('correct guess...!')"
      ],
      "metadata": {
        "colab": {
          "base_uri": "https://localhost:8080/"
        },
        "id": "R8dmcFTmWxIn",
        "outputId": "3ad30b13-578f-41b4-e462-6aa5c02f91f3"
      },
      "execution_count": null,
      "outputs": [
        {
          "output_type": "stream",
          "name": "stdout",
          "text": [
            "guess a number:1\n",
            "it is smaller..\n",
            "guess a number:4\n",
            "it is smaller..\n",
            "guess a number:4\n",
            "it is smaller..\n",
            "guess a number:2\n",
            "it is smaller..\n",
            "guess a number:3\n",
            "it is smaller..\n",
            "guess a number:2\n",
            "it is smaller..\n",
            "guess a number:5\n",
            "it is smaller..\n",
            "guess a number:4\n",
            "it is smaller..\n",
            "guess a number:6\n",
            "it is smaller..\n",
            "guess a number:7\n",
            "correct guess...!\n"
          ]
        }
      ]
    },
    {
      "cell_type": "code",
      "source": [],
      "metadata": {
        "id": "KUpAePjpcJqg"
      },
      "execution_count": null,
      "outputs": []
    },
    {
      "cell_type": "markdown",
      "source": [
        "max.number"
      ],
      "metadata": {
        "id": "yGkR3GlAcKgl"
      }
    },
    {
      "cell_type": "code",
      "source": [
        "n = int(input(\"enter a number:\"))\n",
        "count = 0\n",
        "max = int(input(\"enter a number;\"))\n",
        "while count < n -1:\n",
        "  if n>max:\n",
        "    max = n\n",
        "  count = count +1\n",
        "print('max is :',max)"
      ],
      "metadata": {
        "colab": {
          "base_uri": "https://localhost:8080/"
        },
        "id": "S-Zg6hjSXv82",
        "outputId": "c4c12916-0ce9-4707-8692-4f3c445a2cfe"
      },
      "execution_count": null,
      "outputs": [
        {
          "output_type": "stream",
          "name": "stdout",
          "text": [
            "enter a number:4125\n",
            "enter a number;1346\n",
            "max is : 4125\n"
          ]
        }
      ]
    },
    {
      "cell_type": "code",
      "source": [],
      "metadata": {
        "colab": {
          "base_uri": "https://localhost:8080/",
          "height": 199
        },
        "id": "8cBLxo_Db8ys",
        "outputId": "e74e9a75-00b7-411a-957e-523157cb9897"
      },
      "execution_count": null,
      "outputs": [
        {
          "output_type": "error",
          "ename": "NameError",
          "evalue": "ignored",
          "traceback": [
            "\u001b[0;31m---------------------------------------------------------------------------\u001b[0m",
            "\u001b[0;31mNameError\u001b[0m                                 Traceback (most recent call last)",
            "\u001b[0;32m<ipython-input-104-207d04c4e001>\u001b[0m in \u001b[0;36m<cell line: 1>\u001b[0;34m()\u001b[0m\n\u001b[0;32m----> 1\u001b[0;31m \u001b[0ma\u001b[0m \u001b[0;34m=\u001b[0m \u001b[0mMax\u001b[0m\u001b[0;34m(\u001b[0m\u001b[0;36m4\u001b[0m\u001b[0;34m,\u001b[0m\u001b[0;36m5\u001b[0m\u001b[0;34m)\u001b[0m\u001b[0;34m\u001b[0m\u001b[0;34m\u001b[0m\u001b[0m\n\u001b[0m\u001b[1;32m      2\u001b[0m \u001b[0ma\u001b[0m\u001b[0;34m\u001b[0m\u001b[0;34m\u001b[0m\u001b[0m\n",
            "\u001b[0;31mNameError\u001b[0m: name 'Max' is not defined"
          ]
        }
      ]
    },
    {
      "cell_type": "code",
      "source": [],
      "metadata": {
        "id": "Wm4mr8HzcBq3"
      },
      "execution_count": null,
      "outputs": []
    }
  ]
}